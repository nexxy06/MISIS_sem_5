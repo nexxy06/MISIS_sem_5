{
 "cells": [
  {
   "cell_type": "code",
   "execution_count": 1,
   "id": "d37107ad",
   "metadata": {},
   "outputs": [
    {
     "name": "stdout",
     "output_type": "stream",
     "text": [
      "[(14, 49), (15, 53), (16, 236), (17, 126), (18, 806), (19, 971), (20, 910), (21, 716), (22, 944), (23, 1071), (24, 810), (25, 1050), (26, 980), (27, 1263), (28, 1113), (29, 1340), (30, 734), (31, 1115), (32, 796), (33, 758), (34, 869), (35, 676), (36, 1198), (37, 522), (38, 1006), (39, 695), (40, 723), (41, 837), (42, 978), (43, 820), (44, 1032), (45, 690), (46, 677), (47, 831), (48, 1026), (49, 1060), (50, 150), (51, 188), (52, 193), (53, 47), (54, 26), (55, 62), (56, 76), (57, 136), (58, 262), (59, 74), (60, 266), (61, 226), (62, 139), (63, 183), (64, 189), (65, 79), (66, 188), (67, 128), (69, 202), (70, 26), (71, 85), (73, 17)]\n"
     ]
    }
   ],
   "source": [
    "with open('in.txt', 'r') as infile:\n",
    "    dataraw = infile.read()\n",
    "data = [(int(item), dataraw.count(item)) for item in sorted(set(dataraw.splitlines()))]\n",
    "print(data)"
   ]
  },
  {
   "cell_type": "code",
   "execution_count": 2,
   "id": "69e8689c",
   "metadata": {},
   "outputs": [],
   "source": [
    "average = sum(k[0] * k[1] for k in data) / sum(k[1] for k in data)\n",
    "variance = sum((item[0] - average) ** 2 * item[1] for item in data) / sum(item[1] for item in data)\n",
    "stddev = variance ** 0.5\n",
    "\n",
    "mode = max(data, key=lambda x: x[1])\n",
    "\n",
    "median = 0\n",
    "total = 0\n",
    "for value, freq in sorted(data):\n",
    "    total += freq\n",
    "    if total >= sum(k[1] for k in data) / 2:\n",
    "        median = value\n",
    "        break\n",
    "\n",
    "range_val = max(k[0] for k in data) - min(k[0] for k in data)\n",
    "\n",
    "variation_coefficient = stddev / average"
   ]
  },
  {
   "cell_type": "code",
   "execution_count": 3,
   "id": "377012d9",
   "metadata": {},
   "outputs": [
    {
     "name": "stdout",
     "output_type": "stream",
     "text": [
      "Ассиметрия 0.623\n",
      "Эксцесс -0.060\n"
     ]
    }
   ],
   "source": [
    "assymetry = sum(((k[0] - average) ** 3) * k[1] for k in data) / sum(k[1] for k in data) / (stddev ** 3)\n",
    "excess = sum(((k[0] - average) ** 4) * k[1] for k in data) / sum(k[1] for k in data) / (stddev ** 4) - 3\n",
    "\n",
    "print(f'Ассиметрия {assymetry:.3f}')\n",
    "print(f'Эксцесс {excess:.3f}')"
   ]
  },
  {
   "cell_type": "code",
   "execution_count": 4,
   "id": "cfd9c7c6",
   "metadata": {},
   "outputs": [
    {
     "name": "stdout",
     "output_type": "stream",
     "text": [
      "Интервал [23.335, 47.411]\n",
      "Процент реализаций в интервале 1 сигм: 66.351%\n",
      "В этом интервале правило 3 сигм НЕ соблюдается, ошибка на 1.949%\n",
      "Интервал [11.297, 59.449]\n",
      "Процент реализаций в интервале 2 сигм: 94.670%\n",
      "В этом интервале правило 3 сигм НЕ соблюдается, ошибка на 0.730%\n",
      "Интервал [-0.741, 71.487]\n",
      "Процент реализаций в интервале 3 сигм: 99.948%\n",
      "В этом интервале правило 3 сигм соблюдается\n",
      "\n",
      "Правило 3 сигм НЕ соблюдается => распределение не нормальное\n"
     ]
    }
   ],
   "source": [
    "threshold = 0.5\n",
    "three_sigma_rule = {1: 68.3, 2: 95.4, 3: 99.7}\n",
    "rule_applies = True\n",
    "total = sum(item[1] for item in data)\n",
    "for i in range(1, 4):\n",
    "    low = average - i * stddev\n",
    "    high = average + i * stddev\n",
    "\n",
    "    in_interval = [item for item in data if low <= item[0] <= high]\n",
    "    count_in_interval = sum(item[1] for item in in_interval)\n",
    "    percentage_in_interval = count_in_interval / total * 100\n",
    "\n",
    "    print(f\"Интервал [{low:.3f}, {high:.3f}]\")\n",
    "    print(f\"Процент реализаций в интервале {i} сигм: {percentage_in_interval:.3f}%\")\n",
    "    if abs(three_sigma_rule[i]-percentage_in_interval) > threshold:\n",
    "        print(f'В этом интервале правило 3 сигм НЕ соблюдается, ошибка на {abs(three_sigma_rule[i]-percentage_in_interval):.3f}%')\n",
    "        rule_applies = False\n",
    "    else:\n",
    "        print('В этом интервале правило 3 сигм соблюдается')\n",
    "print()\n",
    "if rule_applies:\n",
    "    print('Правило 3 сигм соблюдается для всех интервалов')\n",
    "else:\n",
    "    print('Правило 3 сигм НЕ соблюдается => распределение не нормальное')"
   ]
  },
  {
   "cell_type": "code",
   "execution_count": null,
   "id": "aaf1d0ea",
   "metadata": {},
   "outputs": [
    {
     "name": "stdout",
     "output_type": "stream",
     "text": [
      "[(14, 0.0015112728618573235), (15, 0.0031459149369274897), (16, 0.010424698516485212), (17, 0.014310828732689757), (18, 0.03916972519507757), (19, 0.06911760170249515), (20, 0.09718409770841686), (21, 0.11926718687351572), (22, 0.1483823211917466), (23, 0.18141442802948524), (24, 0.2063966937050859), (25, 0.23878111217345713), (26, 0.2690065694106036), (27, 0.3079603984825587), (28, 0.34228788205903216), (29, 0.3836165684853345), (30, 0.40625481910989114), (31, 0.44064398729297105), (32, 0.46519446072232673), (33, 0.4885729266261604), (34, 0.5153748881966506), (35, 0.536224285229621), (36, 0.5731733645868673), (37, 0.5892730469111434), (38, 0.6203004040341733), (39, 0.6417358048299047), (40, 0.664034790118126), (41, 0.6898497979829133), (42, 0.7200135706134534), (43, 0.7453042593220862), (44, 0.7771335163309996), (45, 0.798414705610215), (46, 0.8192949449464886), (47, 0.8449248989914567), (48, 0.8765691021805508), (49, 0.9092619436819541), (50, 0.9138882891774358), (51, 0.9196866421984394), (52, 0.925639206735959), (53, 0.92708879499121), (54, 0.9278906948770934), (55, 0.9298029176818925), (56, 0.9321469327329365), (57, 0.9363414859821731), (58, 0.9444221694476144), (59, 0.946704499892052), (60, 0.954908552570706), (61, 0.9618789131172316), (62, 0.9661659932763779), (63, 0.9718101347808654), (64, 0.9776393301051722), (65, 0.9800758720661259), (66, 0.9858742250871295), (67, 0.9898220399099404), (69, 0.9960521851771891), (70, 0.9968540850630725), (71, 0.9994756808438454), (73, 1.0)]\n"
     ]
    },
    {
     "data": {
      "image/png": "[encoded data removed]",
      "text/plain": [
       "<Figure size 640x480 with 1 Axes>"
      ]
     },
     "metadata": {},
     "output_type": "display_data"
    }
   ],
   "source": [
    "data_cum = []\n",
    "cum = 0\n",
    "for value, freq in sorted(data):\n",
    "    cum += freq\n",
    "    data_cum.append((value, cum/total))\n",
    "\n",
    "print(data_cum)\n",
    "\n",
    "from matplotlib import pyplot as plt\n",
    "\n",
    "values, freqs = zip(*data_cum)\n",
    "plt.plot(values, freqs)\n",
    "plt.show()"
   ]
  }
 ],
 "metadata": {
  "kernelspec": {
   "display_name": "Python 3",
   "language": "python",
   "name": "python3"
  },
  "language_info": {
   "codemirror_mode": {
    "name": "ipython",
    "version": 3
   },
   "file_extension": ".py",
   "mimetype": "text/x-python",
   "name": "python",
   "nbconvert_exporter": "python",
   "pygments_lexer": "ipython3",
   "version": "3.13.7"
  }
 },
 "nbformat": 4,
 "nbformat_minor": 5
}
