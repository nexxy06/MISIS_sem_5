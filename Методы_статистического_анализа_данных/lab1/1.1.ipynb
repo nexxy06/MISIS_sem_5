{
 "cells": [
  {
   "cell_type": "code",
   "execution_count": 1,
   "id": "5bd61546",
   "metadata": {},
   "outputs": [],
   "source": [
    "with open('Москва_2021.txt', 'r') as infile:\n",
    "    dataraw = infile.read()\n",
    "\n",
    "data = [int(item) for item in dataraw.splitlines()]\n",
    "k = 7\n",
    "n = len(data)\n"
   ]
  },
  {
   "cell_type": "code",
   "execution_count": 2,
   "id": "3e1cc660",
   "metadata": {},
   "outputs": [
    {
     "name": "stdout",
     "output_type": "stream",
     "text": [
      "8.428571428571429\n",
      "[(14, 23), (23, 32), (32, 41), (41, 50), (50, 59), (59, 68), (68, 77)]\n",
      "{(14, 23): 4811, (23, 32): 9476, (32, 41): 7243, (41, 50): 7951, (50, 59): 1140, (59, 68): 1472, (68, 77): 330}\n",
      "[((14, 23), 4811), ((23, 32), 9476), ((32, 41), 7243), ((41, 50), 7951), ((50, 59), 1140), ((59, 68), 1472), ((68, 77), 330)]\n"
     ]
    }
   ],
   "source": [
    "import math\n",
    "h = (max(data) - min(data)) / k\n",
    "print(h) # almost 9\n",
    "h = math.ceil(h)\n",
    "\n",
    "intervals = [(min(data) + i*h, min(data) + (i+1)*h) for i in range(k)]\n",
    "print(intervals)\n",
    "\n",
    "intervals_frequencies = {interval: 0 for interval in intervals}\n",
    "\n",
    "for value in data:\n",
    "    for interval in intervals:\n",
    "        if interval[0] <= value < interval[1]:\n",
    "            intervals_frequencies[interval] += 1\n",
    "            break\n",
    "\n",
    "print(intervals_frequencies)\n",
    "\n",
    "infr = list(intervals_frequencies.items())\n",
    "print(infr)"
   ]
  },
  {
   "cell_type": "code",
   "execution_count": 3,
   "id": "38c74f0b",
   "metadata": {},
   "outputs": [
    {
     "name": "stdout",
     "output_type": "stream",
     "text": [
      "Среднее 35.631\n",
      "Дисперсия 148.536\n",
      "Среднеквадратичное отклонение 12.188\n",
      "Мода 29.087\n",
      "Медиана 34.391\n",
      "Размах 63.000\n",
      "Коэфф вариации 34.205%\n",
      "Максимальное 77\n",
      "Минимальное 14\n"
     ]
    }
   ],
   "source": [
    "average = sum([(item[0][0]+item[0][1])/2*item[1] for item in infr])/n\n",
    "variance = sum([((item[0][0]+item[0][1])/2 - average)**2 * item[1] for item in infr])/n\n",
    "stddev = variance**0.5\n",
    "\n",
    "\n",
    "\n",
    "modal_interval = max(infr, key=lambda x: x[1])\n",
    "modal_interval_index = infr.index(modal_interval)\n",
    "mode = modal_interval[0][0] + h * (modal_interval[1] - (infr[modal_interval_index - 1][1])) / ((modal_interval[1] - (infr[modal_interval_index - 1][1])) + (modal_interval[1] - (infr[modal_interval_index + 1][1])))\n",
    "\n",
    "sumhalved = sum([item[1] for item in infr])/2\n",
    "total = 0\n",
    "median_interval = None\n",
    "for interval, freq in infr:\n",
    "    total += freq\n",
    "    if total >= sumhalved:\n",
    "        median_interval = interval\n",
    "        break\n",
    "median_interval_index = infr.index((median_interval, intervals_frequencies[median_interval]))\n",
    "median = median_interval[0] + h * (sumhalved - (total - intervals_frequencies[median_interval])) / intervals_frequencies[median_interval]\n",
    "\n",
    "range_val = infr[-1][0][1] - infr[0][0][0]\n",
    "\n",
    "variation_coefficient = stddev/average\n",
    "\n",
    "\n",
    "print(f'Среднее {average:.3f}')\n",
    "print(f'Дисперсия {variance:.3f}')\n",
    "print(f'Среднеквадратичное отклонение {stddev:.3f}')\n",
    "print(f'Мода {mode:.3f}')\n",
    "print(f'Медиана {median:.3f}')\n",
    "print(f'Размах {range_val:.3f}')\n",
    "print(f'Коэфф вариации {variation_coefficient*100:.3f}%')\n",
    "print(f'Максимальное {max(infr, key=lambda x: x[0][1])[0][1]}')\n",
    "print(f'Минимальное {min(infr, key=lambda x: x[0][0])[0][0]}')\n"
   ]
  },
  {
   "cell_type": "code",
   "execution_count": 4,
   "id": "0eb92263",
   "metadata": {},
   "outputs": [
    {
     "data": {
      "image/png": "[encoded data removed]",
      "text/plain": [
       "<Figure size 640x480 with 1 Axes>"
      ]
     },
     "metadata": {},
     "output_type": "display_data"
    }
   ],
   "source": [
    "import matplotlib.pyplot as plt\n",
    "\n",
    "values, frequencies = zip(*infr)\n",
    "lefts = [a for a, b in values]\n",
    "widths = [b - a for a, b in values]\n",
    "\n",
    "plt.bar(lefts, frequencies, width=widths, align=\"edge\",\n",
    "        color=\"lightgreen\", edgecolor=\"black\")\n",
    "plt.show()"
   ]
  }
 ],
 "metadata": {
  "kernelspec": {
   "display_name": "Python 3",
   "language": "python",
   "name": "python3"
  },
  "language_info": {
   "codemirror_mode": {
    "name": "ipython",
    "version": 3
   },
   "file_extension": ".py",
   "mimetype": "text/x-python",
   "name": "python",
   "nbconvert_exporter": "python",
   "pygments_lexer": "ipython3",
   "version": "3.13.2"
  }
 },
 "nbformat": 4,
 "nbformat_minor": 5
}
